{
 "cells": [
  {
   "cell_type": "code",
   "execution_count": 1,
   "metadata": {},
   "outputs": [
    {
     "name": "stderr",
     "output_type": "stream",
     "text": [
      "/var/folders/rw/s7c9z30x7fj_2gcngv0yhv6w0000gn/T/ipykernel_63755/177954249.py:2: DtypeWarning: Columns (12,21,22,24,33,34) have mixed types. Specify dtype option on import or set low_memory=False.\n",
      "  df = pd.read_csv(\"data/0510-citation-pub-data.csv\")\n"
     ]
    }
   ],
   "source": [
    "import pandas as pd\n",
    "df = pd.read_csv(\"data/0510-citation-pub-data.csv\")"
   ]
  },
  {
   "cell_type": "code",
   "execution_count": null,
   "metadata": {},
   "outputs": [
    {
     "data": {
      "text/plain": [
       "{'CUHK', 'CityU', 'HKU', 'HKUST', 'NTU', 'NUS', 'SMU'}"
      ]
     },
     "execution_count": 4,
     "metadata": {},
     "output_type": "execute_result"
    }
   ],
   "source": [
    "set(df['School'].tolist())"
   ]
  },
  {
   "cell_type": "code",
   "execution_count": 11,
   "metadata": {},
   "outputs": [],
   "source": [
    "df = df[df['School'].isin(['CityU', 'CUHK', 'HKU', 'HKUST'])]\n",
    "df = df[['Researcher of Interest', 'School']]\n",
    "df = df.drop_duplicates()"
   ]
  },
  {
   "cell_type": "code",
   "execution_count": 13,
   "metadata": {},
   "outputs": [
    {
     "name": "stdout",
     "output_type": "stream",
     "text": [
      "Researcher of Interest    Li QIU\n",
      "School                     HKUST\n",
      "Name: 16907, dtype: object\n"
     ]
    }
   ],
   "source": [
    "print(df.iloc[0,])"
   ]
  },
  {
   "cell_type": "code",
   "execution_count": null,
   "metadata": {},
   "outputs": [],
   "source": [
    "from scholarly import scholarly\n",
    "\n",
    "# use the Google Scholar page for a researcher to figure out which year this person first published\n",
    "def get_first_publication_year(name: str):\n",
    "    search_query = scholarly.search_author(name)\n",
    "    author = next(search_query, None)\n",
    "\n",
    "    if author:\n",
    "        author = scholarly.fill(author)\n",
    "        publications = author.get('publications', [])\n",
    "        if publications:\n",
    "            first_pub_year = min(pub.get('bib', {}).get('pub_year', float('inf')) for pub in publications)\n",
    "            return first_pub_year if first_pub_year != float('inf') else None\n",
    "    return None"
   ]
  },
  {
   "cell_type": "code",
   "execution_count": null,
   "metadata": {},
   "outputs": [],
   "source": [
    "def get_undergraduate_institution(name: str):\n",
    "    "
   ]
  }
 ],
 "metadata": {
  "kernelspec": {
   "display_name": "research",
   "language": "python",
   "name": "python3"
  },
  "language_info": {
   "codemirror_mode": {
    "name": "ipython",
    "version": 3
   },
   "file_extension": ".py",
   "mimetype": "text/x-python",
   "name": "python",
   "nbconvert_exporter": "python",
   "pygments_lexer": "ipython3",
   "version": "3.12.3"
  }
 },
 "nbformat": 4,
 "nbformat_minor": 2
}
